{
 "cells": [
  {
   "attachments": {},
   "cell_type": "markdown",
   "metadata": {},
   "source": [
    "DATAFRAME "
   ]
  },
  {
   "cell_type": "code",
   "execution_count": 1,
   "metadata": {},
   "outputs": [
    {
     "data": {
      "text/plain": [
       "{'NOMBRE': ['Gesler', 'Omar', 'Olano', 'Anotny'],\n",
       " 'NOTAS': [15, 12, 8, 14],\n",
       " 'CORREO': ['gesler1116@gmail.com',\n",
       "  'omar@outlook.es',\n",
       "  'olanochupapinga@gmail.com',\n",
       "  'elimpotente@pijamuerta.com']}"
      ]
     },
     "execution_count": 1,
     "metadata": {},
     "output_type": "execute_result"
    }
   ],
   "source": [
    "# un datafrimer es un conjunto de series \n",
    "import pandas as pd\n",
    "import numpy as np\n",
    "data = {'NOMBRE':['Gesler', 'Omar', 'Olano', 'Anotny'],\n",
    "        'NOTAS':[15, 12, 8, 14], \n",
    "        'CORREO': ['gesler1116@gmail.com', 'omar@outlook.es', 'olanochupapinga@gmail.com', 'elimpotente@pijamuerta.com']\n",
    "        }\n",
    "data"
   ]
  },
  {
   "cell_type": "code",
   "execution_count": 16,
   "metadata": {},
   "outputs": [
    {
     "data": {
      "text/html": [
       "<div>\n",
       "<style scoped>\n",
       "    .dataframe tbody tr th:only-of-type {\n",
       "        vertical-align: middle;\n",
       "    }\n",
       "\n",
       "    .dataframe tbody tr th {\n",
       "        vertical-align: top;\n",
       "    }\n",
       "\n",
       "    .dataframe thead th {\n",
       "        text-align: right;\n",
       "    }\n",
       "</style>\n",
       "<table border=\"1\" class=\"dataframe\">\n",
       "  <thead>\n",
       "    <tr style=\"text-align: right;\">\n",
       "      <th></th>\n",
       "      <th>NOMBRE</th>\n",
       "      <th>NOTAS</th>\n",
       "      <th>CORREO</th>\n",
       "    </tr>\n",
       "  </thead>\n",
       "  <tbody>\n",
       "    <tr>\n",
       "      <th>0</th>\n",
       "      <td>Gesler</td>\n",
       "      <td>15</td>\n",
       "      <td>gesler1116@gmail.com</td>\n",
       "    </tr>\n",
       "    <tr>\n",
       "      <th>1</th>\n",
       "      <td>Omar</td>\n",
       "      <td>12</td>\n",
       "      <td>omar@outlook.es</td>\n",
       "    </tr>\n",
       "    <tr>\n",
       "      <th>2</th>\n",
       "      <td>Olano</td>\n",
       "      <td>8</td>\n",
       "      <td>olanochupapinga@gmail.com</td>\n",
       "    </tr>\n",
       "    <tr>\n",
       "      <th>3</th>\n",
       "      <td>Anotny</td>\n",
       "      <td>14</td>\n",
       "      <td>elimpotente@pijamuerta.com</td>\n",
       "    </tr>\n",
       "  </tbody>\n",
       "</table>\n",
       "</div>"
      ],
      "text/plain": [
       "   NOMBRE  NOTAS                      CORREO\n",
       "0  Gesler     15        gesler1116@gmail.com\n",
       "1    Omar     12             omar@outlook.es\n",
       "2   Olano      8   olanochupapinga@gmail.com\n",
       "3  Anotny     14  elimpotente@pijamuerta.com"
      ]
     },
     "execution_count": 16,
     "metadata": {},
     "output_type": "execute_result"
    }
   ],
   "source": [
    "df = pd.DataFrame(data)\n",
    "df"
   ]
  },
  {
   "cell_type": "code",
   "execution_count": 4,
   "metadata": {},
   "outputs": [
    {
     "data": {
      "text/html": [
       "<div>\n",
       "<style scoped>\n",
       "    .dataframe tbody tr th:only-of-type {\n",
       "        vertical-align: middle;\n",
       "    }\n",
       "\n",
       "    .dataframe tbody tr th {\n",
       "        vertical-align: top;\n",
       "    }\n",
       "\n",
       "    .dataframe thead th {\n",
       "        text-align: right;\n",
       "    }\n",
       "</style>\n",
       "<table border=\"1\" class=\"dataframe\">\n",
       "  <thead>\n",
       "    <tr style=\"text-align: right;\">\n",
       "      <th></th>\n",
       "      <th>número x</th>\n",
       "      <th>número y</th>\n",
       "      <th>número z</th>\n",
       "    </tr>\n",
       "  </thead>\n",
       "  <tbody>\n",
       "    <tr>\n",
       "      <th>0</th>\n",
       "      <td>-2.136105</td>\n",
       "      <td>-0.175905</td>\n",
       "      <td>-0.010882</td>\n",
       "    </tr>\n",
       "    <tr>\n",
       "      <th>1</th>\n",
       "      <td>-0.457440</td>\n",
       "      <td>0.674848</td>\n",
       "      <td>-0.534527</td>\n",
       "    </tr>\n",
       "    <tr>\n",
       "      <th>2</th>\n",
       "      <td>-0.627652</td>\n",
       "      <td>0.240319</td>\n",
       "      <td>-0.303902</td>\n",
       "    </tr>\n",
       "    <tr>\n",
       "      <th>3</th>\n",
       "      <td>-0.868199</td>\n",
       "      <td>1.033492</td>\n",
       "      <td>-0.385354</td>\n",
       "    </tr>\n",
       "  </tbody>\n",
       "</table>\n",
       "</div>"
      ],
      "text/plain": [
       "   número x  número y  número z\n",
       "0 -2.136105 -0.175905 -0.010882\n",
       "1 -0.457440  0.674848 -0.534527\n",
       "2 -0.627652  0.240319 -0.303902\n",
       "3 -0.868199  1.033492 -0.385354"
      ]
     },
     "execution_count": 4,
     "metadata": {},
     "output_type": "execute_result"
    }
   ],
   "source": [
    "df = pd.DataFrame(np.random.randn(4, 3), columns=['número x', 'número y', 'número z'])\n",
    "df"
   ]
  }
 ],
 "metadata": {
  "kernelspec": {
   "display_name": "Python 3",
   "language": "python",
   "name": "python3"
  },
  "language_info": {
   "codemirror_mode": {
    "name": "ipython",
    "version": 3
   },
   "file_extension": ".py",
   "mimetype": "text/x-python",
   "name": "python",
   "nbconvert_exporter": "python",
   "pygments_lexer": "ipython3",
   "version": "3.10.9"
  },
  "orig_nbformat": 4,
  "vscode": {
   "interpreter": {
    "hash": "ac325a2c9ca6fbab688556c6fde17381ffe40d316bc114f5f71d28764ad03e40"
   }
  }
 },
 "nbformat": 4,
 "nbformat_minor": 2
}
