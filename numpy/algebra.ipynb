{
 "cells": [
  {
   "cell_type": "code",
   "execution_count": 3,
   "metadata": {},
   "outputs": [],
   "source": [
    "import numpy as np"
   ]
  },
  {
   "attachments": {},
   "cell_type": "markdown",
   "metadata": {},
   "source": [
    "Suma de matrices"
   ]
  },
  {
   "cell_type": "code",
   "execution_count": 7,
   "metadata": {},
   "outputs": [],
   "source": [
    "# Solo se puede hacer suma de matrices simpre cuando sea del mismo orden\n",
    "# Como por ejemplo(3x3) x (3x3)\n",
    "# Ejercicio n°1\n",
    "A = np.array([[-3, 0], [2, 5], [8, -7]])\n",
    "B = np.array([[7, -5], [4, -2], [1, -4]])"
   ]
  },
  {
   "cell_type": "code",
   "execution_count": 8,
   "metadata": {},
   "outputs": [
    {
     "data": {
      "text/plain": [
       "array([[  4,  -5],\n",
       "       [  6,   3],\n",
       "       [  9, -11]])"
      ]
     },
     "execution_count": 8,
     "metadata": {},
     "output_type": "execute_result"
    }
   ],
   "source": [
    "# Sumando las matrices \n",
    "suma_matriz = np.add(A,B)\n",
    "suma_matriz"
   ]
  },
  {
   "cell_type": "code",
   "execution_count": 29,
   "metadata": {},
   "outputs": [],
   "source": [
    "# Ejercicios número 2: Econtrar la sumas de 3 matrices\n",
    "A = np.array([[-5, 10, 0], [2, -14, 9], [-6, 3, 8]])\n",
    "B = np.array([[-8, 3, 4], [-9, 7, -5], [15, -3, 0]])\n",
    "C = np.array([[5, 0, 2], [-4, 6, 10], [0, -5, 1]])\n",
    "\n",
    "# Hallar la suma:\n",
    "# A + b =\n",
    "# A + C =\n",
    "# B + C =\n",
    "# A + B + C ="
   ]
  },
  {
   "cell_type": "code",
   "execution_count": 19,
   "metadata": {},
   "outputs": [
    {
     "data": {
      "text/plain": [
       "array([[-13,  13,   4],\n",
       "       [ -7,  -7,   4],\n",
       "       [  9,   0,   8]])"
      ]
     },
     "execution_count": 19,
     "metadata": {},
     "output_type": "execute_result"
    }
   ],
   "source": [
    "# Hallando A  + B\n",
    "suma_a_b = np.add(A, B)\n",
    "suma_a_b"
   ]
  },
  {
   "cell_type": "code",
   "execution_count": 12,
   "metadata": {},
   "outputs": [
    {
     "data": {
      "text/plain": [
       "array([[ 0, 10,  2],\n",
       "       [-2, -8, 19],\n",
       "       [-6, -2,  9]])"
      ]
     },
     "execution_count": 12,
     "metadata": {},
     "output_type": "execute_result"
    }
   ],
   "source": [
    "# Hallando A  + C\n",
    "suma_a_c = np.add(A, C)\n",
    "suma_a_c"
   ]
  },
  {
   "cell_type": "code",
   "execution_count": 13,
   "metadata": {},
   "outputs": [
    {
     "data": {
      "text/plain": [
       "array([[ -3,   3,   6],\n",
       "       [-13,  13,   5],\n",
       "       [ 15,  -8,   1]])"
      ]
     },
     "execution_count": 13,
     "metadata": {},
     "output_type": "execute_result"
    }
   ],
   "source": [
    "# Hallando B + C\n",
    "suma_b_c = np.add(B, C)\n",
    "suma_b_c"
   ]
  },
  {
   "cell_type": "code",
   "execution_count": 35,
   "metadata": {},
   "outputs": [
    {
     "data": {
      "text/plain": [
       "array([[ 5,  0,  2],\n",
       "       [-4,  6, 10],\n",
       "       [ 0, -5,  1]])"
      ]
     },
     "execution_count": 35,
     "metadata": {},
     "output_type": "execute_result"
    }
   ],
   "source": [
    "# Hallando A + B + C\n",
    "# Usaremos el resultado de la matriz A + B y sumamos con la matriz C\n",
    "C\n",
    "\n"
   ]
  },
  {
   "cell_type": "code",
   "execution_count": 36,
   "metadata": {},
   "outputs": [
    {
     "data": {
      "text/plain": [
       "array([[ -8,  13,   6],\n",
       "       [-11,  -1,  14],\n",
       "       [  9,  -5,   9]])"
      ]
     },
     "execution_count": 36,
     "metadata": {},
     "output_type": "execute_result"
    }
   ],
   "source": [
    "suma_a_b_c = np.add(suma_a_b, C)\n",
    "suma_a_b_c"
   ]
  },
  {
   "cell_type": "code",
   "execution_count": null,
   "metadata": {},
   "outputs": [],
   "source": []
  },
  {
   "attachments": {},
   "cell_type": "markdown",
   "metadata": {},
   "source": [
    "RESTA DE MATRICES"
   ]
  },
  {
   "cell_type": "code",
   "execution_count": 50,
   "metadata": {},
   "outputs": [],
   "source": [
    "import numpy as np\n",
    "# La resta solo se puede realizar si es del mismo orden\n",
    "# Ojo, no es lo mismo C-D que D-C\n",
    "# C-D = ?\n",
    "\n",
    "C = np.array([[0,-8, 9], [14,-3, 5],[20, 0, -15]])\n",
    "D = np.array([[4, -2, 6], [7, 5, 12], [0,-2, -8]])"
   ]
  },
  {
   "cell_type": "code",
   "execution_count": 51,
   "metadata": {},
   "outputs": [
    {
     "data": {
      "text/plain": [
       "array([[-4, -6,  3],\n",
       "       [ 7, -8, -7],\n",
       "       [20,  2, -7]])"
      ]
     },
     "execution_count": 51,
     "metadata": {},
     "output_type": "execute_result"
    }
   ],
   "source": [
    "resta = np.subtract(C, D)\n",
    "resta"
   ]
  },
  {
   "cell_type": "code",
   "execution_count": 52,
   "metadata": {},
   "outputs": [
    {
     "data": {
      "text/plain": [
       "array([[  4,   6,  -3],\n",
       "       [ -7,   8,   7],\n",
       "       [-20,  -2,   7]])"
      ]
     },
     "execution_count": 52,
     "metadata": {},
     "output_type": "execute_result"
    }
   ],
   "source": [
    "# D-C = ?\n",
    "resta2 = np.subtract(D, C)\n",
    "resta2"
   ]
  }
 ],
 "metadata": {
  "kernelspec": {
   "display_name": "Python 3",
   "language": "python",
   "name": "python3"
  },
  "language_info": {
   "codemirror_mode": {
    "name": "ipython",
    "version": 3
   },
   "file_extension": ".py",
   "mimetype": "text/x-python",
   "name": "python",
   "nbconvert_exporter": "python",
   "pygments_lexer": "ipython3",
   "version": "3.10.9"
  },
  "orig_nbformat": 4,
  "vscode": {
   "interpreter": {
    "hash": "ac325a2c9ca6fbab688556c6fde17381ffe40d316bc114f5f71d28764ad03e40"
   }
  }
 },
 "nbformat": 4,
 "nbformat_minor": 2
}
